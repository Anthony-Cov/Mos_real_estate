{
 "cells": [
  {
   "cell_type": "code",
   "execution_count": 9,
   "id": "f36e117b-bd34-41e8-9ed8-d7eae75df620",
   "metadata": {},
   "outputs": [],
   "source": [
    "import requests \n",
    "from urllib.parse import urlencode\n",
    "import urllib3\n",
    "urllib3.disable_warnings()"
   ]
  },
  {
   "cell_type": "code",
   "execution_count": 10,
   "id": "0b0200af-f3df-487f-a654-976352cac65c",
   "metadata": {},
   "outputs": [
    {
     "name": "stdout",
     "output_type": "stream",
     "text": [
      "https://127.0.0.1:5000/?uin=IH3265-10-0002-001&horizon=1.5\n"
     ]
    }
   ],
   "source": [
    "'''Для старой версии с UIN'''\n",
    "url='http://127.0.0.1:5000/?uin=IH3265-10-0002-001&horizon=1.5'\n",
    "print(url)"
   ]
  },
  {
   "cell_type": "code",
   "execution_count": 24,
   "id": "c9c8a749-08e6-49c7-b59a-3f1ab59a8d26",
   "metadata": {},
   "outputs": [
    {
     "data": {
      "text/plain": [
       "'http://127.0.0.1:5000?horizon=1.25&planchers_tot=56&height=179.9&souterrain=2&planchers_sur=54&n_app=450&superficie_tot=38910&espace_de_vie=22301.0&lon=37.398552745&lat=55.830326602'"
      ]
     },
     "execution_count": 24,
     "metadata": {},
     "output_type": "execute_result"
    }
   ],
   "source": [
    "param={\n",
    "    'horizon':1.25, # горизонт прогноза\n",
    "    'planchers_tot':56, # общее количество этажей\n",
    "    'height':179.9, # высота обхекта (м)\n",
    "    'souterrain':2, # количество подземных этажей\n",
    "    'planchers_sur':54, # количество надземных этажей\n",
    "    'n_app':450, # количество квартир\n",
    "    'superficie_tot':38910, # общая площадь объекта \n",
    "    'espace_de_vie':22301.0, # жилая площадь объекта\n",
    "    'lon':37.398552745, # долгота \n",
    "    'lat':55.830326602 # широта \n",
    "}\n",
    "url = 'http://127.0.0.1:5000?'+urlencode(param)\n",
    "url"
   ]
  },
  {
   "cell_type": "code",
   "execution_count": 25,
   "id": "150284a8-6039-44cc-94ba-db4ad1d2cbec",
   "metadata": {},
   "outputs": [
    {
     "name": "stdout",
     "output_type": "stream",
     "text": [
      "{\n",
      "  \"file_name\": \"results/prognose_2025-05-31_01-04-52.xlsx\",\n",
      "  \"forecast_horizon\": 1.25,\n",
      "  \"lat\": 55.830326602,\n",
      "  \"lon\": 37.398552745,\n",
      "  \"price_index\": 1.159,\n",
      "  \"pricemetr\": 448.37,\n",
      "  \"response\": \"Okay\"\n",
      "}\n",
      "\n"
     ]
    }
   ],
   "source": [
    "r = requests.get(url, verify=False)\n",
    "if r.status_code!=200:\n",
    "    print('Failure', r.status_code)\n",
    "print(r.text)"
   ]
  },
  {
   "cell_type": "code",
   "execution_count": null,
   "id": "a3d89202-9f52-4e01-8fc3-9493ded260db",
   "metadata": {},
   "outputs": [],
   "source": []
  }
 ],
 "metadata": {
  "kernelspec": {
   "display_name": "Python 3 (ipykernel)",
   "language": "python",
   "name": "python3"
  },
  "language_info": {
   "codemirror_mode": {
    "name": "ipython",
    "version": 3
   },
   "file_extension": ".py",
   "mimetype": "text/x-python",
   "name": "python",
   "nbconvert_exporter": "python",
   "pygments_lexer": "ipython3",
   "version": "3.12.5"
  }
 },
 "nbformat": 4,
 "nbformat_minor": 5
}
