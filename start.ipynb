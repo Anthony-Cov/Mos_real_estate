{
 "cells": [
  {
   "cell_type": "code",
   "execution_count": 1,
   "id": "f36e117b-bd34-41e8-9ed8-d7eae75df620",
   "metadata": {},
   "outputs": [],
   "source": [
    "import requests \n",
    "from urllib.parse import urlencode\n",
    "import urllib3\n",
    "urllib3.disable_warnings()"
   ]
  },
  {
   "cell_type": "code",
   "execution_count": 2,
   "id": "594fd9d2-c92e-4e80-ab8f-7de8f74bb5ce",
   "metadata": {},
   "outputs": [
    {
     "name": "stdout",
     "output_type": "stream",
     "text": [
      "http://127.0.0.1:5000/price?horizon=0&planchers_tot=56&height=179.9&souterrain=2&planchers_sur=54&n_app=450&superficie_tot=38910&espace_de_vie=22301.0&lon=55.625664549999996&lat=37.65596415\n",
      "{\n",
      "  \"file_name\": \"results/prognose_2025-07-21_19-05-36.xlsx\",\n",
      "  \"forecast_horizon\": 0.0,\n",
      "  \"lat\": 37.65596415,\n",
      "  \"lon\": 55.625664549999996,\n",
      "  \"price_index\": 1.0,\n",
      "  \"pricemetr\": 253.56,\n",
      "  \"response\": \"Okay\"\n",
      "}\n",
      "\n"
     ]
    }
   ],
   "source": [
    "lon, lat = 55.625664549999996,37.65596415\n",
    "param={\n",
    "    'horizon':0, # горизонт прогноза\n",
    "    'planchers_tot':56, # общее количество этажей\n",
    "    'height':179.9, # высота обхекта (м)\n",
    "    'souterrain':2, # количество подземных этажей\n",
    "    'planchers_sur':54, # количество надземных этажей\n",
    "    'n_app':450, # количество квартир\n",
    "    'superficie_tot':38910, # общая площадь объекта \n",
    "    'espace_de_vie':22301.0, # жилая площадь объекта\n",
    "    'lon':lon, # долгота \n",
    "    'lat':lat # широта \n",
    "}\n",
    "url = 'http://127.0.0.1:5000/price?'+urlencode(param)\n",
    "print(url)\n",
    "\n",
    "r = requests.get(url, verify=False)\n",
    "if r.status_code!=200:\n",
    "    print('Failure', r.status_code)\n",
    "print(r.text)"
   ]
  },
  {
   "cell_type": "code",
   "execution_count": 3,
   "id": "0a93e94a-7bd8-49e8-9e35-0afe895dd965",
   "metadata": {},
   "outputs": [
    {
     "name": "stdout",
     "output_type": "stream",
     "text": [
      "http://127.0.0.1:5000/demand?lon=37.65596415&lat=55.625664549999996&year=2026&month=7\n"
     ]
    },
    {
     "data": {
      "text/plain": [
       "{'1': 0.59,\n",
       " '2': 0.31,\n",
       " '3': 0.1,\n",
       " '4': 0.0,\n",
       " 'date': '2026-07-01',\n",
       " 'district': 'Царицыно',\n",
       " 'respond': 'Okay'}"
      ]
     },
     "execution_count": 3,
     "metadata": {},
     "output_type": "execute_result"
    }
   ],
   "source": [
    "lon, lat =\t55.625664549999996,37.65596415\n",
    "param={\n",
    "    'lon':lat, # долгота \n",
    "    'lat':lon, # широта \n",
    "    'year':2026, # прогнозируемый год\n",
    "    'month':7, # прогнозируемый месяц\n",
    "}\n",
    "url= 'http://127.0.0.1:5000/demand?'+urlencode(param)\n",
    "print(url)\n",
    "r = requests.get(url, verify=False)\n",
    "if r.status_code!=200:\n",
    "    print('Failure', r.status_code)\n",
    "eval(r.text)"
   ]
  },
  {
   "cell_type": "code",
   "execution_count": null,
   "id": "383cf951-6521-4c3c-93e7-e6f2bf1a1652",
   "metadata": {},
   "outputs": [],
   "source": []
  }
 ],
 "metadata": {
  "kernelspec": {
   "display_name": "Python 3 (ipykernel)",
   "language": "python",
   "name": "python3"
  },
  "language_info": {
   "codemirror_mode": {
    "name": "ipython",
    "version": 3
   },
   "file_extension": ".py",
   "mimetype": "text/x-python",
   "name": "python",
   "nbconvert_exporter": "python",
   "pygments_lexer": "ipython3",
   "version": "3.10.12"
  }
 },
 "nbformat": 4,
 "nbformat_minor": 5
}
