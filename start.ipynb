{
 "cells": [
  {
   "cell_type": "code",
   "execution_count": 1,
   "id": "f36e117b-bd34-41e8-9ed8-d7eae75df620",
   "metadata": {},
   "outputs": [],
   "source": [
    "import requests \n",
    "from urllib.parse import urlencode\n",
    "import urllib3\n",
    "urllib3.disable_warnings()"
   ]
  },
  {
   "cell_type": "code",
   "execution_count": 2,
   "id": "594fd9d2-c92e-4e80-ab8f-7de8f74bb5ce",
   "metadata": {},
   "outputs": [
    {
     "name": "stdout",
     "output_type": "stream",
     "text": [
      "http://127.0.0.1:5000/price?horizon=0&planchers_tot=56&height=179.9&souterrain=2&planchers_sur=54&n_app=450&superficie_tot=38910&espace_de_vie=22301.0&lon=55.625664549999996&lat=37.65596415\n",
      "{\n",
      "  \"file_name\": \"results/prognose_2025-07-21_12-21-34.xlsx\",\n",
      "  \"forecast_horizon\": 0.0,\n",
      "  \"lat\": 37.65596415,\n",
      "  \"lon\": 55.625664549999996,\n",
      "  \"price_index\": 1.0,\n",
      "  \"pricemetr\": 251.97,\n",
      "  \"response\": \"Okay\"\n",
      "}\n",
      "\n"
     ]
    }
   ],
   "source": [
    "lon, lat = 55.625664549999996,37.65596415\n",
    "param={\n",
    "    'horizon':0, # горизонт прогноза\n",
    "    'planchers_tot':56, # общее количество этажей\n",
    "    'height':179.9, # высота обхекта (м)\n",
    "    'souterrain':2, # количество подземных этажей\n",
    "    'planchers_sur':54, # количество надземных этажей\n",
    "    'n_app':450, # количество квартир\n",
    "    'superficie_tot':38910, # общая площадь объекта \n",
    "    'espace_de_vie':22301.0, # жилая площадь объекта\n",
    "    'lon':lon, # долгота \n",
    "    'lat':lat # широта \n",
    "}\n",
    "url = 'http://127.0.0.1:5000/price?'+urlencode(param)\n",
    "print(url)\n",
    "\n",
    "r = requests.get(url, verify=False)\n",
    "if r.status_code!=200:\n",
    "    print('Failure', r.status_code)\n",
    "print(r.text)"
   ]
  },
  {
   "cell_type": "code",
   "execution_count": 3,
   "id": "b276fe42-2024-41a7-a17b-a13de11011d2",
   "metadata": {},
   "outputs": [],
   "source": [
    "rn=['Кунцево', 'Внуковское', 'Филимонковское', 'Московский',\n",
    "       'Мосрентген', 'Сосенское', 'Воскресенское', 'Десеновское',\n",
    "       'Новофедоровское', 'Марушкинское', 'Троицк', 'Щаповское',\n",
    "       'Михайлово-Ярцевское', 'Щербинка', 'Замоскворечье', 'Арбат',\n",
    "       'Тверской', 'Таганский', 'Басманный', 'Пресненский', 'Хамовники',\n",
    "       'Мещанский', 'Красносельский', 'Якиманка', 'Лианозово',\n",
    "       'Марьина Роща', 'Северное Медведково', 'Южное Медведково',\n",
    "       'Отрадное', 'Алтуфьевский', 'Лосиноостровский', 'Бабушкинский',\n",
    "       'Останкинский', 'Свиблово', 'Ярославский', 'Марфино', 'Ростокино',\n",
    "       'Бутырский', 'Алексеевский', 'Северный', 'Богородское',\n",
    "       'Метрогородок', 'Гольяново', 'Преображенское', 'Соколиная Гора',\n",
    "       'Измайлово', 'Перово', 'Вешняки', 'Косино-Ухтомский',\n",
    "       'Нижегородский', 'Лефортово', 'Южнопортовый', 'Рязанский',\n",
    "       'Текстильщики', 'Печатники', 'Люблино', 'Марьино', 'Даниловский',\n",
    "       'Москворечье-Сабурово', 'Донской', 'Нагорный',\n",
    "       'Нагатино-Садовники', 'Нагатинский Затон', 'Царицыно',\n",
    "       'Чертаново Центральное', 'Чертаново Южное', 'Бирюлёво Восточное',\n",
    "       'Орехово-Борисово Северное', 'Орехово-Борисово Южное', 'Зябликово',\n",
    "       'Гагаринский', 'Академический', 'Котловка', 'Ломоносовский',\n",
    "       'Обручевский', 'Черёмушки', 'Зюзино', 'Коньково',\n",
    "       'Северное Бутово', 'Южное Бутово', 'Солнцево', 'Раменки',\n",
    "       'Крылатское', 'Филёвский Парк', 'Фили-Давыдково', 'Дорогомилово',\n",
    "       'Можайский', 'Очаково-Матвеевское', 'Тропарёво-Никулино',\n",
    "       'Ново-Переделкино', 'Митино', 'Куркино', 'Северное Тушино',\n",
    "       'Южное Тушино', 'Покровское-Стрешнево', 'Щукино',\n",
    "       'Хорошёво-Мнёвники', 'Аэропорт', 'Левобережный', 'Ховрино',\n",
    "       'Головинский', 'Войковский', 'Дмитровский', 'Западное Дегунино',\n",
    "       'Бескудниковский', 'Коптево', 'Тимирязевский', 'Савёловский',\n",
    "       'Беговой', 'Сокол', 'Хорошёвский', 'Молжаниновский', 'Матушкино',\n",
    "       'Савёлки', 'Крюково', 'Некрасовка', 'Кокошкино', 'Первомайское',\n",
    "       'Рязановское', 'Краснопахорское', 'Новокосино', 'Киевский',\n",
    "       'Роговское']"
   ]
  },
  {
   "cell_type": "code",
   "execution_count": 4,
   "id": "0a93e94a-7bd8-49e8-9e35-0afe895dd965",
   "metadata": {},
   "outputs": [
    {
     "name": "stdout",
     "output_type": "stream",
     "text": [
      "http://127.0.0.1:5000/demand?lon=37.65596415&lat=55.625664549999996&year=2026&month=7\n",
      "{\n",
      "  \"1\": 0.59,\n",
      "  \"2\": 0.31,\n",
      "  \"3\": 0.1,\n",
      "  \"4\": 0.0,\n",
      "  \"date\": \"2026-07-01\",\n",
      "  \"district\": \"\\u0426\\u0430\\u0440\\u0438\\u0446\\u044b\\u043d\\u043e\",\n",
      "  \"respond\": \"Okay\"\n",
      "}\n",
      "\n"
     ]
    }
   ],
   "source": [
    "lon, lat =\t55.625664549999996,37.65596415\n",
    "param={\n",
    "    'lon':lat, # долгота \n",
    "    'lat':lon, # широта \n",
    "    'year':2026, # прогнозируемый год\n",
    "    'month':7, # прогнозируемый месяц\n",
    "}\n",
    "url= 'http://127.0.0.1:5000/demand?'+urlencode(param)\n",
    "print(url)\n",
    "r = requests.get(url, verify=False)\n",
    "if r.status_code!=200:\n",
    "    print('Failure', r.status_code)\n",
    "print(r.text)"
   ]
  },
  {
   "cell_type": "code",
   "execution_count": 5,
   "id": "a1e85f40-53ef-4e48-8ba4-b63113e38efe",
   "metadata": {},
   "outputs": [
    {
     "data": {
      "text/plain": [
       "'Царицыно'"
      ]
     },
     "execution_count": 5,
     "metadata": {},
     "output_type": "execute_result"
    }
   ],
   "source": [
    "import pandas as pd\n",
    "import numpy as np\n",
    "\n",
    "def proximity(coord, obj): #Евклидова близость по координатам \n",
    "    lat, lon = coord\n",
    "    pr=np.linalg.norm(obj[['lat', 'lon']].values - np.array(coord), axis=1)\n",
    "    return pr.min(), pr.argmin()\n",
    "    \n",
    "distr_coord=pd.read_csv('data/distr_coord.csv')\n",
    "_, n=proximity((param['lat'], param['lon']), distr_coord)\n",
    "district=distr_coord.loc[n,'Район']\n",
    "district"
   ]
  },
  {
   "cell_type": "code",
   "execution_count": null,
   "id": "9025825d-d013-4cef-a229-6c2f9f233c2a",
   "metadata": {},
   "outputs": [],
   "source": []
  }
 ],
 "metadata": {
  "kernelspec": {
   "display_name": "Python 3 (ipykernel)",
   "language": "python",
   "name": "python3"
  },
  "language_info": {
   "codemirror_mode": {
    "name": "ipython",
    "version": 3
   },
   "file_extension": ".py",
   "mimetype": "text/x-python",
   "name": "python",
   "nbconvert_exporter": "python",
   "pygments_lexer": "ipython3",
   "version": "3.12.5"
  }
 },
 "nbformat": 4,
 "nbformat_minor": 5
}
