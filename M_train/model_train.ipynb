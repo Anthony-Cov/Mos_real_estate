{
 "cells": [
  {
   "cell_type": "code",
   "execution_count": 1,
   "id": "d6b95c47-8ae8-4a50-987f-84a51b6e1b7d",
   "metadata": {},
   "outputs": [],
   "source": [
    "import pandas as pd\n",
    "import numpy as np\n",
    "import pickle\n",
    "\n",
    "from sklearn.ensemble import RandomForestRegressor, GradientBoostingRegressor\n",
    "from sklearn.neighbors import KNeighborsRegressor\n",
    "from sklearn.model_selection import train_test_split\n",
    "from sklearn.metrics import mean_absolute_percentage_error"
   ]
  },
  {
   "cell_type": "code",
   "execution_count": 2,
   "id": "d2fa7584-617a-4a66-b935-801f64997a20",
   "metadata": {},
   "outputs": [
    {
     "data": {
      "text/plain": [
       "Index(['УИН', 'количество этажей всего', 'высота объекта',\n",
       "       'Этажность объекта подземная', 'Этажность объекта наземная',\n",
       "       'Количество квартир', 'Общая площадь объекта',\n",
       "       'Площадь жилых помещений объекта', 'lon', 'lat', 'pricemetr',\n",
       "       'metroprox', 'rwprox', 'medprox', 'kidprox', 'schoolprox', 'cemetprox',\n",
       "       'industrprox', 'liveratio', 'highratio'],\n",
       "      dtype='object')"
      ]
     },
     "execution_count": 2,
     "metadata": {},
     "output_type": "execute_result"
    }
   ],
   "source": [
    "df=pd.read_csv('train_df.csv')\n",
    "df.columns"
   ]
  },
  {
   "cell_type": "code",
   "execution_count": 11,
   "id": "4536766f-a4a5-4fed-bfe9-9c9a66695fc9",
   "metadata": {},
   "outputs": [],
   "source": [
    "df.drop(df[df['pricemetr']<.1].index, inplace=True)\n",
    "df.drop(df[df['pricemetr']>1.5].index, inplace=True)\n",
    "Xy=df.drop(['УИН',   'высота объекта', 'количество этажей всего','Количество квартир','Этажность объекта подземная','Площадь жилых помещений объекта',\n",
    "             #'liveratio', 'highratio',\n",
    "             'industrprox','medprox', 'kidprox', 'schoolprox', 'cemetprox', 'rwprox',\n",
    "           ], axis=1).dropna() \n",
    "Xy.rename(columns={'Этажность объекта наземная':'planchers_sur',\n",
    "                   'Общая площадь объекта': 'superficie_tot'}, inplace=True)"
   ]
  },
  {
   "cell_type": "code",
   "execution_count": 12,
   "id": "58b28636-e99d-4e84-8659-bc77db7028fd",
   "metadata": {},
   "outputs": [
    {
     "data": {
      "text/plain": [
       "((328, 7), (328,), (162, 7), (162,))"
      ]
     },
     "execution_count": 12,
     "metadata": {},
     "output_type": "execute_result"
    }
   ],
   "source": [
    "X=Xy.drop(['pricemetr'], axis=1)\n",
    "y=Xy.pricemetr\n",
    "X_train, X_test, y_train, y_test = train_test_split(X, y, test_size=0.33, random_state=42)\n",
    "X_train.shape, y_train.shape, X_test.shape, y_test.shape"
   ]
  },
  {
   "cell_type": "code",
   "execution_count": 13,
   "id": "8ff1e6c6-1f19-40cb-8e52-8942442d31e2",
   "metadata": {},
   "outputs": [
    {
     "name": "stdout",
     "output_type": "stream",
     "text": [
      "\tR^2_test:0.70; R^2_train:0.91\n",
      "\tMAPE_test:17.9%; MAPE_train:10.6%\n"
     ]
    }
   ],
   "source": [
    "#model=KNeighborsRegressor(n_neighbors=2)\n",
    "model=GradientBoostingRegressor(n_estimators=150, learning_rate=.05)\n",
    "#model=RandomForestRegressor(n_estimators=100, min_samples_split=2, min_samples_leaf=4)\n",
    "\n",
    "model.fit(X_train, y_train)\n",
    "print('\\tR^2_test:%.2f; R^2_train:%.2f'%(model.score(X_test,y_test), model.score(X_train,y_train)))\n",
    "\n",
    "y_pred=model.predict(X_test)\n",
    "y_pr_tr=model.predict(X_train)\n",
    "err1, err2 = mean_absolute_percentage_error(y_test, y_pred), mean_absolute_percentage_error(y_train, y_pr_tr)\n",
    "print('\\tMAPE_test:%.1f%%; MAPE_train:%.1f%%'%(err1*100,err2*100))"
   ]
  },
  {
   "cell_type": "code",
   "execution_count": 14,
   "id": "dc221a17-a5f7-4bd4-8aa7-18cc01bab3ff",
   "metadata": {},
   "outputs": [],
   "source": [
    "with open('GBoost.pkl', 'wb') as f:\n",
    "    pickle.dump(model, f)"
   ]
  },
  {
   "cell_type": "code",
   "execution_count": null,
   "id": "83338284-5bd0-48cc-9593-9a1d3cdb7593",
   "metadata": {},
   "outputs": [],
   "source": []
  }
 ],
 "metadata": {
  "kernelspec": {
   "display_name": "Python 3 (ipykernel)",
   "language": "python",
   "name": "python3"
  },
  "language_info": {
   "codemirror_mode": {
    "name": "ipython",
    "version": 3
   },
   "file_extension": ".py",
   "mimetype": "text/x-python",
   "name": "python",
   "nbconvert_exporter": "python",
   "pygments_lexer": "ipython3",
   "version": "3.10.12"
  }
 },
 "nbformat": 4,
 "nbformat_minor": 5
}
